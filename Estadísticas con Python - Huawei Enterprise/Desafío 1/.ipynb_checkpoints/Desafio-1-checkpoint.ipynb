{
 "cells": [
  {
   "cell_type": "markdown",
   "id": "1096cf8a",
   "metadata": {},
   "source": [
    "## CONSIGNA\n",
    "Utilizando Python debes cargar el archivo “Ventas.csv” y poder mostrar por pantalla las primeras 10 filas de los datos."
   ]
  },
  {
   "cell_type": "markdown",
   "id": "7c1d662b",
   "metadata": {},
   "source": [
    "__Importación de librerías__"
   ]
  },
  {
   "cell_type": "code",
   "execution_count": 1,
   "id": "09074a63",
   "metadata": {},
   "outputs": [],
   "source": [
    "import pandas as pd"
   ]
  },
  {
   "cell_type": "markdown",
   "id": "999feb1f",
   "metadata": {},
   "source": [
    "__Carga del archivo CSV en un DataFrame__"
   ]
  },
  {
   "cell_type": "code",
   "execution_count": 2,
   "id": "5078ef85",
   "metadata": {},
   "outputs": [],
   "source": [
    "df = pd.read_csv(\"Ventas.csv\")"
   ]
  },
  {
   "cell_type": "markdown",
   "id": "685285ff",
   "metadata": {},
   "source": [
    "__Mostrar las primeras 3 filas__"
   ]
  },
  {
   "cell_type": "code",
   "execution_count": 3,
   "id": "780bccec",
   "metadata": {},
   "outputs": [
    {
     "name": "stdout",
     "output_type": "stream",
     "text": [
      "     N°       Sexo  Edad Tipo cliente  Precio Dcto\n",
      "0   1.0   Femenino  36.0          VIP  29,940  20%\n",
      "1   2.0  Masculino  57.0       Normal  31,920  50%\n",
      "2   3.0   Femenino  42.0       Normal   6,900  15%\n",
      "3   4.0  Masculino  28.0       Normal  49,900  20%\n",
      "4   5.0   Femenino  40.0       Normal  19,900  15%\n",
      "5   6.0  Masculino  58.0       Normal  17,430   5%\n",
      "6   7.0   Femenino  40.0          VIP  49,900  20%\n",
      "7   8.0  Masculino  40.0       Normal  44,900   5%\n",
      "8   9.0  Masculino  44.0          VIP  30,320  15%\n",
      "9  10.0   Femenino  46.0       Normal  69,900  35%\n"
     ]
    }
   ],
   "source": [
    "print(df.head(10))"
   ]
  }
 ],
 "metadata": {
  "kernelspec": {
   "display_name": "Python 3 (ipykernel)",
   "language": "python",
   "name": "python3"
  },
  "language_info": {
   "codemirror_mode": {
    "name": "ipython",
    "version": 3
   },
   "file_extension": ".py",
   "mimetype": "text/x-python",
   "name": "python",
   "nbconvert_exporter": "python",
   "pygments_lexer": "ipython3",
   "version": "3.10.9"
  }
 },
 "nbformat": 4,
 "nbformat_minor": 5
}
