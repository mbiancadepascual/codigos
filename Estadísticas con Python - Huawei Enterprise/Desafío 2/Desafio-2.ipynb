{
 "cells": [
  {
   "cell_type": "markdown",
   "id": "c8e34fd6",
   "metadata": {},
   "source": [
    "## CONSIGNA\n",
    "Utilizando lo aprendido en clases deberán cargar, limpiar los datos y exportar en un archivo nuevo el set de datos limpio y listo para ser utilizado para los análisis de datos.\n",
    "El csv se llama base-de-datos."
   ]
  },
  {
   "cell_type": "markdown",
   "id": "77820233",
   "metadata": {},
   "source": [
    "__Importación de librerías__"
   ]
  },
  {
   "cell_type": "code",
   "execution_count": 1,
   "id": "ebb10577",
   "metadata": {},
   "outputs": [],
   "source": [
    "import pandas as pd\n",
    "import csv"
   ]
  },
  {
   "cell_type": "markdown",
   "id": "779744a9",
   "metadata": {},
   "source": [
    "__Lectura del dataset__"
   ]
  },
  {
   "cell_type": "code",
   "execution_count": 2,
   "id": "5afa6995",
   "metadata": {},
   "outputs": [],
   "source": [
    "data = pd.read_csv('base-de-datos.csv')"
   ]
  },
  {
   "cell_type": "markdown",
   "id": "afae4a4b",
   "metadata": {},
   "source": [
    "__Explorar los datos__"
   ]
  },
  {
   "cell_type": "code",
   "execution_count": 3,
   "id": "980a115f",
   "metadata": {},
   "outputs": [
    {
     "name": "stdout",
     "output_type": "stream",
     "text": [
      "    ID Espesor Lomo\\n  (m.m) Porcentaje Magro\\n CM (%)   Sexo         Region  \\\n",
      "0  NaN                   NaN                       NaN    NaN            NaN   \n",
      "1  1.0                  64.4                      55.8  MACHO      O´Higgins   \n",
      "2  2.0                    64                      57.9  MACHO      Araucania   \n",
      "3  3.0                  56.4                      58.8  MACHO  Metropolitana   \n",
      "4  4.0                  69.2                      54.6  MACHO  Metropolitana   \n",
      "\n",
      "  Calidad de la carne Peso Canal Caliente \\n (PCC- Kg)  \\\n",
      "0                 NaN                              NaN   \n",
      "1          Execelente                             85.9   \n",
      "2          Execelente                             80.4   \n",
      "3          Execelente                             81.7   \n",
      "4            Estandar                             88.6   \n",
      "\n",
      "  Peso Canal Refrigerada (PCR - Kg)  Edad del Responsable  Nombre Responsable  \n",
      "0                               NaN                    NaN                NaN  \n",
      "1                              84.3                   36.0                  -  \n",
      "2                              78.5                   36.0                  -  \n",
      "3                              79.6                   36.0                  -  \n",
      "4                              86.8                   36.0                  -  \n"
     ]
    }
   ],
   "source": [
    "print(data.head())"
   ]
  },
  {
   "cell_type": "markdown",
   "id": "0bc301a2",
   "metadata": {},
   "source": [
    "__Eliminar filas/columnas con valores faltantes__"
   ]
  },
  {
   "cell_type": "code",
   "execution_count": 4,
   "id": "005b9177",
   "metadata": {},
   "outputs": [],
   "source": [
    "datos_limpios = data.dropna()"
   ]
  },
  {
   "cell_type": "markdown",
   "id": "6d95d92a",
   "metadata": {},
   "source": [
    "__Eliminar la columna \"Nombre responsable\" que tiene valores vacíos__"
   ]
  },
  {
   "cell_type": "code",
   "execution_count": 5,
   "id": "167bb16f",
   "metadata": {},
   "outputs": [],
   "source": [
    "datos_limpios = datos_limpios.drop(\"Nombre Responsable\", axis=1)"
   ]
  },
  {
   "cell_type": "markdown",
   "id": "5912ae2b",
   "metadata": {},
   "source": [
    "__Exportar nuevo dataset__"
   ]
  },
  {
   "cell_type": "code",
   "execution_count": 6,
   "id": "36a9ff90",
   "metadata": {},
   "outputs": [],
   "source": [
    "datos_limpios.to_csv('nuevo_archivo.csv', index=False)"
   ]
  },
  {
   "cell_type": "markdown",
   "id": "59d9a727",
   "metadata": {},
   "source": [
    "__Verificar resultados__"
   ]
  },
  {
   "cell_type": "code",
   "execution_count": 7,
   "id": "fc66425b",
   "metadata": {},
   "outputs": [],
   "source": [
    "data2 = pd.read_csv('nuevo_archivo.csv')"
   ]
  },
  {
   "cell_type": "code",
   "execution_count": 8,
   "id": "c621cfff",
   "metadata": {},
   "outputs": [
    {
     "name": "stdout",
     "output_type": "stream",
     "text": [
      "    ID  Espesor Lomo\\n  (m.m) Porcentaje Magro\\n CM (%)   Sexo         Region  \\\n",
      "0  1.0                   64.4                      55.8  MACHO      O´Higgins   \n",
      "1  2.0                   64.0                      57.9  MACHO      Araucania   \n",
      "2  3.0                   56.4                      58.8  MACHO  Metropolitana   \n",
      "3  4.0                   69.2                      54.6  MACHO  Metropolitana   \n",
      "4  5.0                   62.0                      57.9  MACHO  Metropolitana   \n",
      "\n",
      "  Calidad de la carne Peso Canal Caliente \\n (PCC- Kg)  \\\n",
      "0          Execelente                             85.9   \n",
      "1          Execelente                             80.4   \n",
      "2          Execelente                             81.7   \n",
      "3            Estandar                             88.6   \n",
      "4          Execelente                             79.5   \n",
      "\n",
      "  Peso Canal Refrigerada (PCR - Kg)  Edad del Responsable   \n",
      "0                              84.3                   36.0  \n",
      "1                              78.5                   36.0  \n",
      "2                              79.6                   36.0  \n",
      "3                              86.8                   36.0  \n",
      "4                              77.5                   36.0  \n"
     ]
    }
   ],
   "source": [
    "print(data2.head())"
   ]
  }
 ],
 "metadata": {
  "kernelspec": {
   "display_name": "Python 3 (ipykernel)",
   "language": "python",
   "name": "python3"
  },
  "language_info": {
   "codemirror_mode": {
    "name": "ipython",
    "version": 3
   },
   "file_extension": ".py",
   "mimetype": "text/x-python",
   "name": "python",
   "nbconvert_exporter": "python",
   "pygments_lexer": "ipython3",
   "version": "3.10.9"
  }
 },
 "nbformat": 4,
 "nbformat_minor": 5
}
